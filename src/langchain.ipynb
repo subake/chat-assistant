{
 "cells": [
  {
   "cell_type": "code",
   "execution_count": 1,
   "metadata": {},
   "outputs": [],
   "source": [
    "import os\n",
    "import sys\n",
    "from dotenv import load_dotenv\n",
    "from pathlib import Path\n",
    "import time\n",
    "from tqdm import tqdm\n",
    "import math\n",
    "\n",
    "from langchain.document_loaders import TextLoader\n",
    "from langchain_experimental.text_splitter import SemanticChunker\n",
    "from langchain.text_splitter import RecursiveCharacterTextSplitter\n",
    "\n",
    "from langchain.embeddings import HuggingFaceEmbeddings\n",
    "from langchain.vectorstores import FAISS\n",
    "\n",
    "from transformers import AutoTokenizer, AutoModelForQuestionAnswering, pipeline\n",
    "\n",
    "from langchain import HuggingFacePipeline\n",
    "from langchain.chains import RetrievalQA\n",
    "\n",
    "from langchain_core.runnables import RunnableParallel, RunnablePassthrough\n",
    "from langchain_core.output_parsers import StrOutputParser\n",
    "from langchain_core.prompts import ChatPromptTemplate\n",
    "\n",
    "from langchain_community.document_loaders import PyPDFLoader\n",
    "from langchain_community.document_loaders import DirectoryLoader\n",
    "from langchain import hub\n",
    "from langchain_openai import ChatOpenAI, OpenAIEmbeddings\n",
    "from langchain_community.vectorstores import Chroma\n",
    "import textwrap\n",
    "\n",
    "# from langchain.indexes import VectorstoreIndexCreator\n",
    "# from langchain.chat_models import ChatOpenAI"
   ]
  },
  {
   "cell_type": "code",
   "execution_count": 2,
   "metadata": {},
   "outputs": [
    {
     "data": {
      "text/plain": [
       "True"
      ]
     },
     "execution_count": 2,
     "metadata": {},
     "output_type": "execute_result"
    }
   ],
   "source": [
    "# dotenv_path = Path('../.env')\n",
    "# load_dotenv(dotenv_path=dotenv_path)\n",
    "\n",
    "load_dotenv()"
   ]
  },
  {
   "cell_type": "code",
   "execution_count": 3,
   "metadata": {},
   "outputs": [],
   "source": [
    "vectorstore = Chroma(embedding_function=OpenAIEmbeddings(), persist_directory='../vectorstore/crescent')"
   ]
  },
  {
   "cell_type": "code",
   "execution_count": 4,
   "metadata": {},
   "outputs": [
    {
     "name": "stderr",
     "output_type": "stream",
     "text": [
      "100%|██████████| 7/7 [00:35<00:00,  5.07s/it]\n"
     ]
    }
   ],
   "source": [
    "# loader = TextLoader('../data/txt_samples/cbc_news.txt')\n",
    "\n",
    "loader = DirectoryLoader('../data/crescent_docs/', glob=\"**/*.pdf\", loader_cls=PyPDFLoader, show_progress=True)\n",
    "\n",
    "docs = loader.load()"
   ]
  },
  {
   "cell_type": "code",
   "execution_count": 5,
   "metadata": {},
   "outputs": [
    {
     "name": "stdout",
     "output_type": "stream",
     "text": [
      "409\n",
      "49\n",
      "9\n"
     ]
    }
   ],
   "source": [
    "chunk_size = 1000\n",
    "# text_splitter = RecursiveCharacterTextSplitter(chunk_size=chunk_size, chunk_overlap=200, add_start_index=True)\n",
    "text_splitter = RecursiveCharacterTextSplitter.from_tiktoken_encoder(chunk_size=chunk_size, chunk_overlap=200, add_start_index=True)\n",
    "splits = text_splitter.split_documents(docs)\n",
    "print(len(splits))\n",
    "\n",
    "batch_size = int((150000 / 3 - 0.001) // chunk_size)\n",
    "batch_num = int(math.ceil((len(splits) / batch_size)))\n",
    "print(batch_size)\n",
    "print(batch_num)\n",
    "batches = []\n",
    "for i in range(batch_num):\n",
    "    batch = splits[batch_size*i:batch_size*(i+1)]\n",
    "\n",
    "    batches += [batch]"
   ]
  },
  {
   "cell_type": "code",
   "execution_count": 6,
   "metadata": {},
   "outputs": [
    {
     "name": "stderr",
     "output_type": "stream",
     "text": [
      "100%|██████████| 9/9 [03:18<00:00, 22.01s/it]\n"
     ]
    }
   ],
   "source": [
    "n = 0\n",
    "for batch in tqdm(batches):\n",
    "    t1 = time.time()\n",
    "    vectorstore.add_documents(documents=batch, embedding=OpenAIEmbeddings(), persist_directory='../vectorstore/crescent')\n",
    "\n",
    "    t2 = time.time()\n",
    "    if 22 - (t2-t1) > 0:\n",
    "        time.sleep(22 - (t2-t1))"
   ]
  },
  {
   "cell_type": "code",
   "execution_count": 4,
   "metadata": {},
   "outputs": [],
   "source": [
    "# retriever = vectorstore.as_retriever()\n",
    "retriever = vectorstore.as_retriever(search_kwargs={\"k\": 3})\n",
    "# prompt = hub.pull(\"rlm/rag-prompt\")\n",
    "llm = ChatOpenAI(model_name=\"gpt-3.5-turbo\", temperature=0.0)"
   ]
  },
  {
   "cell_type": "code",
   "execution_count": 5,
   "metadata": {},
   "outputs": [],
   "source": [
    "template = \"\"\"Answer the question based on the following context.\n",
    "\n",
    "{context}\n",
    "\n",
    "Question: {question}\n",
    "\n",
    "If there is no information in the context, think rationally and provide an answer based on your own knowledge.\n",
    "\"\"\"\n",
    "\n",
    "prompt = ChatPromptTemplate.from_template(template)"
   ]
  },
  {
   "cell_type": "code",
   "execution_count": 6,
   "metadata": {},
   "outputs": [],
   "source": [
    "def format_docs(docs):\n",
    "    return \"\\n\\n\".join(doc.page_content for doc in docs)\n",
    "\n",
    "rag_chain_answer = (\n",
    "    RunnablePassthrough.assign(context=(lambda x: format_docs(x[\"context\"])))\n",
    "    | prompt\n",
    "    | llm\n",
    "    | StrOutputParser()\n",
    ")\n",
    "\n",
    "rag_chain_with_sources = RunnableParallel(\n",
    "    {\"context\": retriever, \"question\": RunnablePassthrough()}\n",
    ").assign(answer=rag_chain_answer)"
   ]
  },
  {
   "cell_type": "code",
   "execution_count": 10,
   "metadata": {},
   "outputs": [],
   "source": [
    "def format_response(resp):\n",
    "    span_start = resp[\"context\"][0].metadata[\"start_index\"]\n",
    "    span_end = span_start + len(resp[\"context\"][0].page_content)\n",
    "    \n",
    "    # s = f\"\"\"{textwrap.fill(resp['answer'], width=130)}\n",
    "    s = f\"\"\"{resp['answer']}\n",
    "\n",
    "    \n",
    "Source: {resp['context'][0].metadata['source']}\n",
    "\n",
    "Page: {resp['context'][0].metadata['page']}, span: {span_start}--{span_end}\n",
    "\"\"\"\n",
    "    return s"
   ]
  },
  {
   "cell_type": "code",
   "execution_count": 8,
   "metadata": {},
   "outputs": [
    {
     "data": {
      "text/plain": [
       "{'context': [Document(page_content='FOR MORE INFORMATION ON CRESCENT POINT ENERGY, PLEASE CONTACT:  \\nShant Madian,  Vice President,  Capital Markets, or  \\nSarfraz Somani , Manager , Investor Relati ons \\nTelephone: (403) 693 -0020 Toll -free (US and Canada): 888 -693-0020  Fax: (403) 693 -0070  \\nAddress: Crescent Point Energy Corp. Suite 2000, 585 - 8th Avenue S.W. Calgary AB  T2P 1G1  \\nwww.crescentpointenergy.com  \\nCrescent Point shares are traded on the Toronto Stock Exchange and New York Stock Exchange under the symbol CPG .', metadata={'page': 4, 'source': '..\\\\data\\\\crescent_docs\\\\crescent_point_announces_disposition_of_its_north_dakota_assets_-_august_24_2023.pdf', 'start_index': 3}),\n",
       "  Document(page_content='Crescent Point and  the Offering.  \\nCopies of the Prospectus and the Prospectus Supplement are available free of charge on the SEC website (http://www.sec.gov). \\nAlternatively, copies may be obtained upon request in Canada by contacting BMO Nesbitt Burns Inc. (“BMO Capital Mark ets”), Brampton \\nDistribution Centre C/O The Data Group of Companies, 9195 Torbram Road, Brampton, Ontario, L6S 6H2 by telephone at 905 -791-\\n3151 Ext 4312 or by email at torbramwarehouse@datagroup.ca, and in the United States by contacting BMO Capital Market s Corp., \\nAttn: Equity Syndicate Department, 151 W 42nd Street, 32nd Floor, New York, NY 10036, or by telephone at 800 -414-3627 or by email \\nat bmoprospectus@bmo.com. Additionally, copies of these documents may be obtained upon request in Canada from RBC Cap ital \\nMarkets, Attn: Distribution Centre, RBC Wellington Square, 8th Floor, 180 Wellington St. W., Toronto, Ontario, M5J 0C2 at Pho ne: 416 -\\n842-5349; E -mail: Distribution.RBCDS@rbccm.com and in the United States from RBC Capital Markets, LLC, 200 Vesey Stree t, 8th \\nFloor, New York, NY 10281 -8098; Attention: Equity Syndicate; Phone: 877 -822-4089; Email: equityprospectus@rbccm.com.  \\n \\nFOR MORE INFORMATION ON CRESCENT POINT ENERGY, PLEASE CONTACT:  \\nShant Madian,  Vice President, Capital Markets, or  \\nSarfraz Soma ni, Manager, Investor Relations  \\nTelephone: (403) 693 -0020 Toll -free (US and Canada): 888 -693-0020  Fax: (403) 693 -0070  \\nAddress: Crescent Point Energy Corp. Suite 2000, 585 - 8th Avenue S.W. Calgary AB  T2P 1G1', metadata={'page': 0, 'source': '..\\\\data\\\\crescent_docs\\\\crescent_point_closing_of_bought_deal_offering_final_0.pdf', 'start_index': 3376}),\n",
       "  Document(page_content=\"Directors\\nBarbara Munroe, Chair (6) \\nJames Craddock  (2) (3) (5)\\nJohn Dielwart (3) (4)\\nTed Goldthorpe (1) (5) \\nMike Jackson (1) (5) \\nJennifer Koury (2) (5)\\nFrancois Langlois (1) (3) (4)\\nMyron Stadnyk (2) (3) (4) \\nMindy Wight (1) (2)\\nCraig Bryksa (4) \\n(1) Member of the Audit Committee of the Board of Directors\\n(2) Member of the Human Resources and Compensation Committee of \\nthe Board of Directors\\n(3) Member of the Reserves Committee of the Board of Directors\\n(4) Member of the Environment, Safety and Sustainability Committee of \\nthe Board of Directors\\n(5) Member of the Corporate Governance and Nominating Committee\\n(6) Chair of the Board serves in an ex officio  capacity on each \\nCommittee\\nOfficers\\nCraig Bryksa\\nPresident and Chief Executive Officer\\nKen Lamont\\nChief Financial Officer\\nRyan Gritzfeldt\\nChief Operating Officer\\nMark Eade\\nSenior Vice President, General Counsel and Corporate Secretary\\nGarret Holt\\nSenior Vice President, Corporate Development\\nMichael Politeski\\nSenior Vice President, Finance and Treasurer\\nShelly Witwer\\nSenior Vice President, Business Development\\nJustin Foraie\\nVice President, Engineering and Marketing\\nHead Office\\nSuite 2000, 585 - 8th Avenue S.W.\\nCalgary, Alberta T2P 1G1\\nTel: (403) 693-0020\\nFax: (403) 693-0070\\nToll Free: (888) 693-0020\\nBanker\\nThe Bank of Nova Scotia\\nCalgary, AlbertaAuditor\\nPricewaterhouseCoopers LLP\\nCalgary, Alberta\\nLegal Counsel\\nNorton Rose Fulbright Canada LLP\\nCalgary, Alberta\\nEvaluation Engineers \\nMcDaniel & Associates Consultants Ltd.\\nCalgary, Alberta\\nRegistrar and Transfer Agent\\nInvestors are encouraged to contact Crescent Point's Registrar and \\nTransfer Agent for information regarding their security holdings:\\nComputershare Trust Company of Canada\\n600, 530 - 8th Avenue S.W. \\nCalgary, Alberta T2P 3S8\\nTel: (403) 267-6800\\nStock Exchanges\\nToronto Stock Exchange - TSX\\nNew York Stock Exchange - NYSE                                                                        \\nStock Symbol\\nCPG\\nInvestor Contacts \\nShant Madian\\nVice President, Capital Markets\\n(403) 693-0020\\nSarfraz Somani\\nManager, Investor Relations\\n(403) 693-0020\\nCRESCENT POINT ENERGY CORP. 29\", metadata={'page': 28, 'source': '..\\\\data\\\\crescent_docs\\\\cpg_ye_2022_mda_fs_-_final.pdf', 'start_index': 0})],\n",
       " 'question': 'What is contact information of Crescent Point?',\n",
       " 'answer': 'The contact information for Crescent Point Energy is as follows:\\n\\n- Shant Madian, Vice President, Capital Markets\\n- Sarfraz Somani, Manager, Investor Relations\\n- Telephone: (403) 693-0020\\n- Toll-free (US and Canada): 888-693-0020\\n- Fax: (403) 693-0070\\n- Address: Crescent Point Energy Corp. Suite 2000, 585 - 8th Avenue S.W. Calgary AB T2P 1G1'}"
      ]
     },
     "execution_count": 8,
     "metadata": {},
     "output_type": "execute_result"
    }
   ],
   "source": [
    "resp = rag_chain_with_sources.invoke(\"What is the contact information for Crescent Point?\")\n",
    "# resp = rag_chain_with_sources.invoke(\"What are growth prospects for crescent point in the next years?\")\n",
    "# resp = rag_chain_with_sources.invoke(\"What revenue is declared in the last quarter statement?\")\n",
    "resp"
   ]
  },
  {
   "cell_type": "code",
   "execution_count": 11,
   "metadata": {},
   "outputs": [
    {
     "name": "stdout",
     "output_type": "stream",
     "text": [
      "The contact information for Crescent Point Energy is as follows:\n",
      "\n",
      "- Shant Madian, Vice President, Capital Markets\n",
      "- Sarfraz Somani, Manager, Investor Relations\n",
      "- Telephone: (403) 693-0020\n",
      "- Toll-free (US and Canada): 888-693-0020\n",
      "- Fax: (403) 693-0070\n",
      "- Address: Crescent Point Energy Corp. Suite 2000, 585 - 8th Avenue S.W. Calgary AB T2P 1G1\n",
      "\n",
      "    \n",
      "Source: ..\\data\\crescent_docs\\crescent_point_announces_disposition_of_its_north_dakota_assets_-_august_24_2023.pdf\n",
      "\n",
      "Page: 4, span: 3--499\n",
      "\n"
     ]
    }
   ],
   "source": [
    "print(format_response(resp))"
   ]
  },
  {
   "cell_type": "code",
   "execution_count": 48,
   "metadata": {},
   "outputs": [
    {
     "name": "stderr",
     "output_type": "stream",
     "text": [
      "UsageError: Line magic function `%ai` not found.\n"
     ]
    }
   ],
   "source": []
  },
  {
   "cell_type": "code",
   "execution_count": null,
   "metadata": {},
   "outputs": [],
   "source": []
  }
 ],
 "metadata": {
  "kernelspec": {
   "display_name": "chat-env",
   "language": "python",
   "name": "python3"
  },
  "language_info": {
   "codemirror_mode": {
    "name": "ipython",
    "version": 3
   },
   "file_extension": ".py",
   "mimetype": "text/x-python",
   "name": "python",
   "nbconvert_exporter": "python",
   "pygments_lexer": "ipython3",
   "version": "3.10.11"
  }
 },
 "nbformat": 4,
 "nbformat_minor": 2
}
